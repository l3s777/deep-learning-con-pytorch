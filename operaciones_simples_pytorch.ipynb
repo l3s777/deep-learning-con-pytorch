{
  "nbformat": 4,
  "nbformat_minor": 0,
  "metadata": {
    "colab": {
      "name": "operaciones-simples-pytorch.ipynb",
      "version": "0.3.2",
      "provenance": []
    },
    "kernelspec": {
      "name": "python3",
      "display_name": "Python 3"
    },
    "accelerator": "GPU"
  },
  "cells": [
    {
      "metadata": {
        "id": "e2JgC2GpdpA2",
        "colab_type": "text"
      },
      "cell_type": "markdown",
      "source": [
        "De Numpy a Pytorch"
      ]
    },
    {
      "metadata": {
        "id": "L0JdaBpRdr2r",
        "colab_type": "code",
        "colab": {}
      },
      "cell_type": "code",
      "source": [
        "# importar numpy\n",
        "import numpy as np"
      ],
      "execution_count": 0,
      "outputs": []
    },
    {
      "metadata": {
        "id": "1FEfvhOtdt03",
        "colab_type": "code",
        "colab": {}
      },
      "cell_type": "code",
      "source": [
        "# importar pytorch\n",
        "import torch"
      ],
      "execution_count": 0,
      "outputs": []
    },
    {
      "metadata": {
        "id": "EJ-B0dEwdwzQ",
        "colab_type": "code",
        "colab": {}
      },
      "cell_type": "code",
      "source": [
        "array1 = np.array([[1,2], [3, 4]])"
      ],
      "execution_count": 0,
      "outputs": []
    },
    {
      "metadata": {
        "id": "Qnn3Cq6-d19j",
        "colab_type": "code",
        "outputId": "bda7810a-56f0-467a-d3f7-6ba3d086c909",
        "colab": {
          "base_uri": "https://localhost:8080/",
          "height": 52
        }
      },
      "cell_type": "code",
      "source": [
        "print(array1)"
      ],
      "execution_count": 0,
      "outputs": [
        {
          "output_type": "stream",
          "text": [
            "[[1 2]\n",
            " [3 4]]\n"
          ],
          "name": "stdout"
        }
      ]
    },
    {
      "metadata": {
        "id": "i6qzdKlZd3vJ",
        "colab_type": "code",
        "outputId": "003029f0-057f-4201-b404-76df407b24e3",
        "colab": {
          "base_uri": "https://localhost:8080/",
          "height": 52
        }
      },
      "cell_type": "code",
      "source": [
        "torch.Tensor(array1)"
      ],
      "execution_count": 0,
      "outputs": [
        {
          "output_type": "execute_result",
          "data": {
            "text/plain": [
              "tensor([[1., 2.],\n",
              "        [3., 4.]])"
            ]
          },
          "metadata": {
            "tags": []
          },
          "execution_count": 5
        }
      ]
    },
    {
      "metadata": {
        "id": "D-HBOWbLd8K0",
        "colab_type": "code",
        "colab": {}
      },
      "cell_type": "code",
      "source": [
        "tensor1 = torch.ones(5)"
      ],
      "execution_count": 0,
      "outputs": []
    },
    {
      "metadata": {
        "id": "nvxLRe4DeEUq",
        "colab_type": "code",
        "outputId": "5cd87177-f3fa-4741-d5f7-0ed133404af0",
        "colab": {
          "base_uri": "https://localhost:8080/",
          "height": 35
        }
      },
      "cell_type": "code",
      "source": [
        "print(tensor1)"
      ],
      "execution_count": 0,
      "outputs": [
        {
          "output_type": "stream",
          "text": [
            "tensor([1., 1., 1., 1., 1.])\n"
          ],
          "name": "stdout"
        }
      ]
    },
    {
      "metadata": {
        "id": "M1SV89kieFyk",
        "colab_type": "code",
        "colab": {}
      },
      "cell_type": "code",
      "source": [
        "array2 = tensor1.numpy()"
      ],
      "execution_count": 0,
      "outputs": []
    },
    {
      "metadata": {
        "id": "afPQaBQmeLLs",
        "colab_type": "code",
        "outputId": "c0b3256d-e358-4ab9-fa35-2ba6cdd125da",
        "colab": {
          "base_uri": "https://localhost:8080/",
          "height": 35
        }
      },
      "cell_type": "code",
      "source": [
        "print(array2)"
      ],
      "execution_count": 0,
      "outputs": [
        {
          "output_type": "stream",
          "text": [
            "[1. 1. 1. 1. 1.]\n"
          ],
          "name": "stdout"
        }
      ]
    },
    {
      "metadata": {
        "id": "6lCOupz6eMz5",
        "colab_type": "code",
        "colab": {}
      },
      "cell_type": "code",
      "source": [
        ""
      ],
      "execution_count": 0,
      "outputs": []
    },
    {
      "metadata": {
        "id": "sINHOf6TeqqK",
        "colab_type": "text"
      },
      "cell_type": "markdown",
      "source": [
        "Hola Pytorch"
      ]
    },
    {
      "metadata": {
        "id": "Efz6Lu2UeruK",
        "colab_type": "code",
        "colab": {}
      },
      "cell_type": "code",
      "source": [
        "# importado pytorch -> import torch"
      ],
      "execution_count": 0,
      "outputs": []
    },
    {
      "metadata": {
        "id": "bd0KcdJ9evO8",
        "colab_type": "code",
        "colab": {}
      },
      "cell_type": "code",
      "source": [
        "a = torch.empty(5,7, dtype=torch.float)"
      ],
      "execution_count": 0,
      "outputs": []
    },
    {
      "metadata": {
        "id": "kruiOccwe3Im",
        "colab_type": "code",
        "outputId": "5e1b2bff-60d3-4c4f-9d78-f66c36571331",
        "colab": {
          "base_uri": "https://localhost:8080/",
          "height": 191
        }
      },
      "cell_type": "code",
      "source": [
        "print(a)"
      ],
      "execution_count": 0,
      "outputs": [
        {
          "output_type": "stream",
          "text": [
            "tensor([[1.6425e-36, 0.0000e+00, 1.2472e-43, 0.0000e+00, 0.0000e+00, 0.0000e+00,\n",
            "         0.0000e+00],\n",
            "        [0.0000e+00, 0.0000e+00, 0.0000e+00, 7.0295e+28, 6.1949e-04, 2.3328e-18,\n",
            "         6.9776e+22],\n",
            "        [6.1972e-04, 7.2443e+22, 7.7052e+31, 1.6533e+19, 7.7140e+31, 3.3806e-18,\n",
            "         1.0900e+27],\n",
            "        [2.3364e-18, 4.5447e+30, 3.0750e+29, 1.9284e+31, 1.8891e+31, 2.0871e+37,\n",
            "         1.0887e+27],\n",
            "        [1.7830e+19, 1.7262e+25, 2.1975e+23, 7.1846e+22, 1.7516e-43, 0.0000e+00,\n",
            "         0.0000e+00]])\n"
          ],
          "name": "stdout"
        }
      ]
    },
    {
      "metadata": {
        "id": "zz8bBE1ee4C-",
        "colab_type": "code",
        "outputId": "d6039faf-fd38-4c73-da11-727ab86b6178",
        "colab": {
          "base_uri": "https://localhost:8080/",
          "height": 35
        }
      },
      "cell_type": "code",
      "source": [
        "print(a.size())"
      ],
      "execution_count": 0,
      "outputs": [
        {
          "output_type": "stream",
          "text": [
            "torch.Size([5, 7])\n"
          ],
          "name": "stdout"
        }
      ]
    },
    {
      "metadata": {
        "id": "nhWzq0ybe8TV",
        "colab_type": "code",
        "colab": {}
      },
      "cell_type": "code",
      "source": [
        "x = torch.randn((1,2))\n",
        "y = torch.randn((1,3))"
      ],
      "execution_count": 0,
      "outputs": []
    },
    {
      "metadata": {
        "id": "u0oS0TIOfD4Y",
        "colab_type": "code",
        "outputId": "a76d7583-c3eb-41a4-9ced-80c74d15fc4f",
        "colab": {
          "base_uri": "https://localhost:8080/",
          "height": 35
        }
      },
      "cell_type": "code",
      "source": [
        "print(x)"
      ],
      "execution_count": 0,
      "outputs": [
        {
          "output_type": "stream",
          "text": [
            "tensor([[1.6190, 1.2513]])\n"
          ],
          "name": "stdout"
        }
      ]
    },
    {
      "metadata": {
        "id": "r1gxyfnffE6m",
        "colab_type": "code",
        "outputId": "e43fcbec-bc3d-4f80-f335-f0e84610bea3",
        "colab": {
          "base_uri": "https://localhost:8080/",
          "height": 35
        }
      },
      "cell_type": "code",
      "source": [
        "print(y)"
      ],
      "execution_count": 0,
      "outputs": [
        {
          "output_type": "stream",
          "text": [
            "tensor([[-0.9264,  1.5442, -0.1429]])\n"
          ],
          "name": "stdout"
        }
      ]
    },
    {
      "metadata": {
        "id": "EyevyrKRfGX4",
        "colab_type": "code",
        "colab": {}
      },
      "cell_type": "code",
      "source": [
        "matriz = torch.randn(3,3)"
      ],
      "execution_count": 0,
      "outputs": []
    },
    {
      "metadata": {
        "id": "vLgy6uj0fNTx",
        "colab_type": "code",
        "outputId": "7141eab3-c75e-4cf9-f4c9-9567522bfbd1",
        "colab": {
          "base_uri": "https://localhost:8080/",
          "height": 69
        }
      },
      "cell_type": "code",
      "source": [
        "print(matriz)"
      ],
      "execution_count": 0,
      "outputs": [
        {
          "output_type": "stream",
          "text": [
            "tensor([[-0.6951, -1.3311,  1.5204],\n",
            "        [ 0.9321, -0.3632,  0.1887],\n",
            "        [-1.1635, -1.6849, -0.3452]])\n"
          ],
          "name": "stdout"
        }
      ]
    },
    {
      "metadata": {
        "id": "jCo_WP69jshy",
        "colab_type": "code",
        "outputId": "5198f6c6-3bea-4c27-99b9-4fa56cf3d816",
        "colab": {
          "base_uri": "https://localhost:8080/",
          "height": 35
        }
      },
      "cell_type": "code",
      "source": [
        "print(torch.cuda.is_available())"
      ],
      "execution_count": 0,
      "outputs": [
        {
          "output_type": "stream",
          "text": [
            "True\n"
          ],
          "name": "stdout"
        }
      ]
    },
    {
      "metadata": {
        "id": "Kysdt2E2kkev",
        "colab_type": "code",
        "colab": {}
      },
      "cell_type": "code",
      "source": [
        ""
      ],
      "execution_count": 0,
      "outputs": []
    }
  ]
}