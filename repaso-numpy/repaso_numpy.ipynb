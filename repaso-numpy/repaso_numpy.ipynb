{
  "nbformat": 4,
  "nbformat_minor": 0,
  "metadata": {
    "colab": {
      "name": "repaso-numpy.ipynb",
      "version": "0.3.2",
      "provenance": []
    },
    "kernelspec": {
      "name": "python3",
      "display_name": "Python 3"
    }
  },
  "cells": [
    {
      "metadata": {
        "id": "aM4c00oITa0n",
        "colab_type": "code",
        "colab": {}
      },
      "cell_type": "code",
      "source": [
        "# importar numpy a nuestro ambiente de trabajo\n",
        "\n",
        "import numpy as np"
      ],
      "execution_count": 0,
      "outputs": []
    },
    {
      "metadata": {
        "id": "ciEG3pLolrpT",
        "colab_type": "code",
        "colab": {}
      },
      "cell_type": "code",
      "source": [
        ""
      ],
      "execution_count": 0,
      "outputs": []
    },
    {
      "metadata": {
        "id": "pRwGoGG3Thff",
        "colab_type": "code",
        "colab": {}
      },
      "cell_type": "code",
      "source": [
        "# crear array\n",
        "\n",
        "array1 = np.array([1, 2, 3])"
      ],
      "execution_count": 0,
      "outputs": []
    },
    {
      "metadata": {
        "id": "eRyIV83VTrfM",
        "colab_type": "code",
        "outputId": "a380bad2-bcec-47c3-f1b4-4779350d9325",
        "colab": {
          "base_uri": "https://localhost:8080/",
          "height": 35
        }
      },
      "cell_type": "code",
      "source": [
        "print(type(array1))"
      ],
      "execution_count": 0,
      "outputs": [
        {
          "output_type": "stream",
          "text": [
            "<class 'numpy.ndarray'>\n"
          ],
          "name": "stdout"
        }
      ]
    },
    {
      "metadata": {
        "id": "S3qJ4gJFTuPG",
        "colab_type": "code",
        "outputId": "b4337490-08dc-42c5-a98a-065d18c17756",
        "colab": {
          "base_uri": "https://localhost:8080/",
          "height": 35
        }
      },
      "cell_type": "code",
      "source": [
        "print(array1.shape)"
      ],
      "execution_count": 0,
      "outputs": [
        {
          "output_type": "stream",
          "text": [
            "(3,)\n"
          ],
          "name": "stdout"
        }
      ]
    },
    {
      "metadata": {
        "id": "0tmvXnKYTyVS",
        "colab_type": "code",
        "colab": {}
      },
      "cell_type": "code",
      "source": [
        "array1[0] = 5"
      ],
      "execution_count": 0,
      "outputs": []
    },
    {
      "metadata": {
        "id": "eogJHl6IT3y8",
        "colab_type": "code",
        "outputId": "3ba9d3f7-cc78-41a6-ef81-fd2e9f98f777",
        "colab": {
          "base_uri": "https://localhost:8080/",
          "height": 35
        }
      },
      "cell_type": "code",
      "source": [
        "print(array1)"
      ],
      "execution_count": 0,
      "outputs": [
        {
          "output_type": "stream",
          "text": [
            "[5 2 3]\n"
          ],
          "name": "stdout"
        }
      ]
    },
    {
      "metadata": {
        "id": "WNvJpnEtT56j",
        "colab_type": "code",
        "colab": {}
      },
      "cell_type": "code",
      "source": [
        "# array 2D\n",
        "\n",
        "array2d = np.array([[1, 2, 3], [4, 5, 6]])"
      ],
      "execution_count": 0,
      "outputs": []
    },
    {
      "metadata": {
        "id": "N-PIBMoaUG-Y",
        "colab_type": "code",
        "outputId": "9ca041ad-945e-4e22-cb93-70f4e3238207",
        "colab": {
          "base_uri": "https://localhost:8080/",
          "height": 52
        }
      },
      "cell_type": "code",
      "source": [
        "print(array2d)"
      ],
      "execution_count": 0,
      "outputs": [
        {
          "output_type": "stream",
          "text": [
            "[[1 2 3]\n",
            " [4 5 6]]\n"
          ],
          "name": "stdout"
        }
      ]
    },
    {
      "metadata": {
        "id": "x7WWNmS9UI1T",
        "colab_type": "code",
        "outputId": "38e44b74-51d5-482c-9f93-c5987ab8d385",
        "colab": {
          "base_uri": "https://localhost:8080/",
          "height": 35
        }
      },
      "cell_type": "code",
      "source": [
        "print(type(array2d))"
      ],
      "execution_count": 0,
      "outputs": [
        {
          "output_type": "stream",
          "text": [
            "<class 'numpy.ndarray'>\n"
          ],
          "name": "stdout"
        }
      ]
    },
    {
      "metadata": {
        "id": "WE9-Mx4HUMom",
        "colab_type": "code",
        "outputId": "998d9e15-fcc0-42c2-9387-27d14b538450",
        "colab": {
          "base_uri": "https://localhost:8080/",
          "height": 35
        }
      },
      "cell_type": "code",
      "source": [
        "print(array2d.shape)"
      ],
      "execution_count": 0,
      "outputs": [
        {
          "output_type": "stream",
          "text": [
            "(2, 3)\n"
          ],
          "name": "stdout"
        }
      ]
    },
    {
      "metadata": {
        "id": "QtFIbZpzURC2",
        "colab_type": "code",
        "colab": {}
      },
      "cell_type": "code",
      "source": [
        "# operaciones matematicas con matrices\n",
        "\n",
        "\n",
        "# definir matrices: x, y\n",
        "\n",
        "x = np.array([[1, 2, 3], [4, 5, 6]])\n",
        "y = np.array([[4, 5, 6], [7, 8, 9]])"
      ],
      "execution_count": 0,
      "outputs": []
    },
    {
      "metadata": {
        "id": "5mz7en26UjXy",
        "colab_type": "code",
        "outputId": "87448c8f-54be-4436-8886-f2bdb202421d",
        "colab": {
          "base_uri": "https://localhost:8080/",
          "height": 52
        }
      },
      "cell_type": "code",
      "source": [
        "print(x)"
      ],
      "execution_count": 0,
      "outputs": [
        {
          "output_type": "stream",
          "text": [
            "[[1 2 3]\n",
            " [4 5 6]]\n"
          ],
          "name": "stdout"
        }
      ]
    },
    {
      "metadata": {
        "id": "6LJoXKrwUkr7",
        "colab_type": "code",
        "outputId": "e0d798eb-b1d2-4855-aafb-d055fd675176",
        "colab": {
          "base_uri": "https://localhost:8080/",
          "height": 52
        }
      },
      "cell_type": "code",
      "source": [
        "print(y)"
      ],
      "execution_count": 0,
      "outputs": [
        {
          "output_type": "stream",
          "text": [
            "[[4 5 6]\n",
            " [7 8 9]]\n"
          ],
          "name": "stdout"
        }
      ]
    },
    {
      "metadata": {
        "id": "l1zTHeNPUmFg",
        "colab_type": "code",
        "outputId": "ca485904-ffd6-4a19-cfc4-ba9621128ece",
        "colab": {
          "base_uri": "https://localhost:8080/",
          "height": 52
        }
      },
      "cell_type": "code",
      "source": [
        "print(np.add(x,y))"
      ],
      "execution_count": 0,
      "outputs": [
        {
          "output_type": "stream",
          "text": [
            "[[ 5  7  9]\n",
            " [11 13 15]]\n"
          ],
          "name": "stdout"
        }
      ]
    },
    {
      "metadata": {
        "id": "kLOlzVBaUqJw",
        "colab_type": "code",
        "outputId": "2184277e-371c-4cc2-9a1f-d0b1b7be5ebd",
        "colab": {
          "base_uri": "https://localhost:8080/",
          "height": 52
        }
      },
      "cell_type": "code",
      "source": [
        "print(x-y)"
      ],
      "execution_count": 0,
      "outputs": [
        {
          "output_type": "stream",
          "text": [
            "[[-3 -3 -3]\n",
            " [-3 -3 -3]]\n"
          ],
          "name": "stdout"
        }
      ]
    },
    {
      "metadata": {
        "id": "ozC_0Ic5Ut1q",
        "colab_type": "code",
        "outputId": "be96a3ae-97eb-4919-fd43-1544324799a3",
        "colab": {
          "base_uri": "https://localhost:8080/",
          "height": 52
        }
      },
      "cell_type": "code",
      "source": [
        "print(np.subtract(x,y))"
      ],
      "execution_count": 0,
      "outputs": [
        {
          "output_type": "stream",
          "text": [
            "[[-3 -3 -3]\n",
            " [-3 -3 -3]]\n"
          ],
          "name": "stdout"
        }
      ]
    },
    {
      "metadata": {
        "id": "he1PtXr0UxjZ",
        "colab_type": "code",
        "outputId": "e9981e7d-2921-4e95-b76f-1a565b67c80d",
        "colab": {
          "base_uri": "https://localhost:8080/",
          "height": 52
        }
      },
      "cell_type": "code",
      "source": [
        "print(np.multiply(x,y))"
      ],
      "execution_count": 0,
      "outputs": [
        {
          "output_type": "stream",
          "text": [
            "[[ 4 10 18]\n",
            " [28 40 54]]\n"
          ],
          "name": "stdout"
        }
      ]
    },
    {
      "metadata": {
        "id": "Aumcyv_VU1kY",
        "colab_type": "code",
        "outputId": "a2fb103c-6298-4762-e2ee-e13c806bc3ec",
        "colab": {
          "base_uri": "https://localhost:8080/",
          "height": 52
        }
      },
      "cell_type": "code",
      "source": [
        "print(np.divide(x,y))"
      ],
      "execution_count": 0,
      "outputs": [
        {
          "output_type": "stream",
          "text": [
            "[[0.25       0.4        0.5       ]\n",
            " [0.57142857 0.625      0.66666667]]\n"
          ],
          "name": "stdout"
        }
      ]
    },
    {
      "metadata": {
        "id": "_Brgb-9BW-Dx",
        "colab_type": "code",
        "colab": {}
      },
      "cell_type": "code",
      "source": [
        "from numpy import sin\n",
        "\n",
        "x = [x*0.1 for x in range(100)]\n",
        "y = sin(x)"
      ],
      "execution_count": 0,
      "outputs": []
    },
    {
      "metadata": {
        "id": "VkHFMWx1XIPP",
        "colab_type": "code",
        "outputId": "42ffd9b5-c76a-4460-93bf-b732cd1c7dc2",
        "colab": {
          "base_uri": "https://localhost:8080/",
          "height": 312
        }
      },
      "cell_type": "code",
      "source": [
        "print(y)"
      ],
      "execution_count": 0,
      "outputs": [
        {
          "output_type": "stream",
          "text": [
            "[ 0.          0.09983342  0.19866933  0.29552021  0.38941834  0.47942554\n",
            "  0.56464247  0.64421769  0.71735609  0.78332691  0.84147098  0.89120736\n",
            "  0.93203909  0.96355819  0.98544973  0.99749499  0.9995736   0.99166481\n",
            "  0.97384763  0.94630009  0.90929743  0.86320937  0.8084964   0.74570521\n",
            "  0.67546318  0.59847214  0.51550137  0.42737988  0.33498815  0.23924933\n",
            "  0.14112001  0.04158066 -0.05837414 -0.15774569 -0.2555411  -0.35078323\n",
            " -0.44252044 -0.52983614 -0.61185789 -0.68776616 -0.7568025  -0.81827711\n",
            " -0.87157577 -0.91616594 -0.95160207 -0.97753012 -0.993691   -0.99992326\n",
            " -0.99616461 -0.98245261 -0.95892427 -0.92581468 -0.88345466 -0.83226744\n",
            " -0.77276449 -0.70554033 -0.63126664 -0.55068554 -0.46460218 -0.37387666\n",
            " -0.2794155  -0.1821625  -0.0830894   0.0168139   0.1165492   0.21511999\n",
            "  0.31154136  0.40484992  0.49411335  0.57843976  0.6569866   0.72896904\n",
            "  0.79366786  0.85043662  0.8987081   0.93799998  0.96791967  0.98816823\n",
            "  0.99854335  0.99894134  0.98935825  0.96988981  0.94073056  0.90217183\n",
            "  0.85459891  0.79848711  0.7343971   0.66296923  0.58491719  0.50102086\n",
            "  0.41211849  0.31909836  0.22288991  0.12445442  0.02477543 -0.07515112\n",
            " -0.17432678 -0.27176063 -0.36647913 -0.45753589]\n"
          ],
          "name": "stdout"
        }
      ]
    },
    {
      "metadata": {
        "id": "M6YZGDziXJq8",
        "colab_type": "code",
        "outputId": "431878c5-f18a-42d9-bd8d-6bed10f4541e",
        "colab": {
          "base_uri": "https://localhost:8080/",
          "height": 269
        }
      },
      "cell_type": "code",
      "source": [
        "import matplotlib.pyplot as plt\n",
        "\n",
        "plt.plot(x,y)\n",
        "plt.show()"
      ],
      "execution_count": 0,
      "outputs": [
        {
          "output_type": "display_data",
          "data": {
            "image/png": "[encoded data removed]",
            "text/plain": [
              "<Figure size 432x288 with 1 Axes>"
            ]
          },
          "metadata": {
            "tags": []
          }
        }
      ]
    },
    {
      "metadata": {
        "id": "p3ihYMcvXQOO",
        "colab_type": "code",
        "colab": {}
      },
      "cell_type": "code",
      "source": [
        ""
      ],
      "execution_count": 0,
      "outputs": []
    }
  ]
}